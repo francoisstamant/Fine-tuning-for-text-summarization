{
  "nbformat": 4,
  "nbformat_minor": 0,
  "metadata": {
    "colab": {
      "name": "text_summarization",
      "provenance": [],
      "collapsed_sections": []
    },
    "kernelspec": {
      "name": "python3",
      "display_name": "Python 3"
    },
    "language_info": {
      "name": "python"
    },
    "accelerator": "GPU"
  },
  "cells": [
    {
      "cell_type": "code",
      "metadata": {
        "id": "V12cQy2jUg2s"
      },
      "source": [
        "!pip install ohmeow-blurr -q\n",
        "!pip install bert-score -q"
      ],
      "execution_count": 1,
      "outputs": []
    },
    {
      "cell_type": "code",
      "metadata": {
        "id": "YJBFQYqD6_0a"
      },
      "source": [
        "import pandas as pd\n",
        "from fastai.text.all import *\n",
        "from transformers import *\n",
        "from blurr.data.all import *\n",
        "from blurr.modeling.all import *"
      ],
      "execution_count": 2,
      "outputs": []
    },
    {
      "cell_type": "code",
      "metadata": {
        "id": "y-U1uyXi7SrH"
      },
      "source": [
        "df = pd.read_csv('/content/drive/MyDrive/Google colabs/lemonde_csv_formation.csv', error_bad_lines=False, sep=';')\n",
        "df = df.dropna().reset_index()"
      ],
      "execution_count": 3,
      "outputs": []
    },
    {
      "cell_type": "code",
      "metadata": {
        "colab": {
          "base_uri": "https://localhost:8080/",
          "height": 0
        },
        "id": "U4l3LFobCgtS",
        "collapsed": true,
        "outputId": "c14e1dd9-b1cd-4d4c-f5ef-0f80946580dd"
      },
      "source": [
        "#Clean text\n",
        "df['content'] = df['content'].apply(lambda x: x.replace('/',''))\n",
        "df['content'] = df['content'].apply(lambda x: x.replace('\\xa0',''))\n",
        "df.head()"
      ],
      "execution_count": 4,
      "outputs": [
        {
          "output_type": "execute_result",
          "data": {
            "text/html": [
              "<div>\n",
              "<style scoped>\n",
              "    .dataframe tbody tr th:only-of-type {\n",
              "        vertical-align: middle;\n",
              "    }\n",
              "\n",
              "    .dataframe tbody tr th {\n",
              "        vertical-align: top;\n",
              "    }\n",
              "\n",
              "    .dataframe thead th {\n",
              "        text-align: right;\n",
              "    }\n",
              "</style>\n",
              "<table border=\"1\" class=\"dataframe\">\n",
              "  <thead>\n",
              "    <tr style=\"text-align: right;\">\n",
              "      <th></th>\n",
              "      <th>index</th>\n",
              "      <th>category</th>\n",
              "      <th>content</th>\n",
              "      <th>date</th>\n",
              "      <th>title</th>\n",
              "    </tr>\n",
              "  </thead>\n",
              "  <tbody>\n",
              "    <tr>\n",
              "      <th>0</th>\n",
              "      <td>0</td>\n",
              "      <td>sport</td>\n",
              "      <td>L’international français Jérémy Ménez va rejoindre le club de Bordeaux en Ligue 1, en provenance du Milan AC, sous réserve de la traditionnelle visite médicale, a annoncé le club aquitain dimanche.   Ménez est la troisième recrue des Girondins après le milieu de Monaco, Jérémy Toulalan, et l’attaquant guinéen de Bastia, François Kamano. Bordeaux sort d’une pâle saison et repart avec des ambitions nouvelles et l’entraîneur Jocelyn Gourvennec, qui jouit d’une grosse cote grâce à ses six saisons convaincantes à Guingamp. Âgé de 29 ans, Ménez, qui compte 24 sélections (2 buts) chez les Bleu...</td>\n",
              "      <td>2016-07-31</td>\n",
              "      <td>Ligue 1 : Jérémy Ménez signe aux Girondins de Bordeaux</td>\n",
              "    </tr>\n",
              "    <tr>\n",
              "      <th>1</th>\n",
              "      <td>1</td>\n",
              "      <td>societe</td>\n",
              "      <td>Le cousin d’un des assassins du Père Jacques Hamel à Saint-Etienne-du-Rouvray, identifié comme étant Farid K., 30 ans, a été mis en examen, dimanche 31 juillet, pour « association de malfaiteurs terroriste en vue de la préparation de crimes d’atteinte aux personnes » et placé en détention provisoire, selon le parquet. Cet individu«avait parfaitement connaissance, si ce n’est du lieu et du jour précis, de l’imminence d’un projet d’action violente de son cousin», avait dit le parquet avant sa mise en examen.   Originaire de Nancy (Meurthe-et-Moselle), il était le dernier des membres de l’...</td>\n",
              "      <td>2016-07-31</td>\n",
              "      <td>Saint-Etienne-du-Rouvray : le cousin d’un des tueurs mis en examen</td>\n",
              "    </tr>\n",
              "    <tr>\n",
              "      <th>2</th>\n",
              "      <td>2</td>\n",
              "      <td>societe</td>\n",
              "      <td>Si le premier ministre Manuel Valls constate que «l’islam a trouvé sa place dans la République», «face à la montée du djihadisme», il y a, selon lui, «urgence» à «bâtir un véritable pacte» avec la deuxième religion de France, à travers une «Fondation pour l’islam de France», explique-t-il dans une tribune publiée le 31juillet dans Le Journal du dimanche.   «L’islam a trouvé sa place dans la République (…) contrairement aux attaques répétées des populismes, à droite et à l’extrême droite», qui ont mis cette religion au «cœur de leur rhétorique du bouc émissaire», déclare M. Valls. Et d’a...</td>\n",
              "      <td>2016-07-31</td>\n",
              "      <td>Valls détaille le « pacte » qu’il veut construire avec l’islam de France</td>\n",
              "    </tr>\n",
              "    <tr>\n",
              "      <th>3</th>\n",
              "      <td>3</td>\n",
              "      <td>economie</td>\n",
              "      <td>Les épargnants français sont choyés. Lundi 1eraoût, le taux de rémunération du Livret A aurait théoriquement dû baisser de 0,75% à 0,50%, selon sa formule de calcul fondée sur l’inflation et les taux des marchés monétaires. Mais il en a été décidé autrement. Le 19juillet, François Villeroy de Galhau, le gouverneur de la Banque de France, a proposé de ne pas appliquer la formule et de maintenir inchangé le taux du Livret A non seulement le 1eraoût, mais aussi le 1erfévrier2017, lors de sa prochaine révision.   Le ministère des finances a suivi son conseil, «afin de maintenir un rendement...</td>\n",
              "      <td>2016-07-31</td>\n",
              "      <td>Livret A : les épargnants sourient, le logement social grimace</td>\n",
              "    </tr>\n",
              "    <tr>\n",
              "      <th>4</th>\n",
              "      <td>4</td>\n",
              "      <td>societe</td>\n",
              "      <td>Un cordon de CRS a bloqué le cortège qui venait juste de se mettre en marche devant la gare du Nord à Paris. Près de 600 personnes étaient présentes, samedi 30juillet, pour réclamer la «vérité» sur les circonstances de la mort d’Adama Traoré, 24 ans, mort onze jours plus tôt, après son interpellation par la gendarmerie à Beaumont-sur-Oise.   L’avocat de la famille, Yassine Bouzrou, a révélé vendredi que, dans les deux rapports d’autopsie qu’il a pu consulter, «l’asphyxie» était présentée comme la cause de la mort. Un élément qui n’avait pas été relevé par le procureur de la République d...</td>\n",
              "      <td>2016-07-31</td>\n",
              "      <td>A la marche pour Adama Traoré : « On veut comprendre ce qu’il s’est réellement passé »</td>\n",
              "    </tr>\n",
              "  </tbody>\n",
              "</table>\n",
              "</div>"
            ],
            "text/plain": [
              "   index  ...                                                                                   title\n",
              "0      0  ...                                  Ligue 1 : Jérémy Ménez signe aux Girondins de Bordeaux\n",
              "1      1  ...                      Saint-Etienne-du-Rouvray : le cousin d’un des tueurs mis en examen\n",
              "2      2  ...                Valls détaille le « pacte » qu’il veut construire avec l’islam de France\n",
              "3      3  ...                          Livret A : les épargnants sourient, le logement social grimace\n",
              "4      4  ...  A la marche pour Adama Traoré : « On veut comprendre ce qu’il s’est réellement passé »\n",
              "\n",
              "[5 rows x 5 columns]"
            ]
          },
          "metadata": {},
          "execution_count": 4
        }
      ]
    },
    {
      "cell_type": "code",
      "metadata": {
        "id": "YfzklGDRiC6q"
      },
      "source": [
        "#Select only part of it (makes testing faster)\n",
        "articles = df.head(300)"
      ],
      "execution_count": 5,
      "outputs": []
    },
    {
      "cell_type": "code",
      "metadata": {
        "id": "iX5xlpgYupO_"
      },
      "source": [
        "#Truncate text to make it fit into the model\n",
        "#articles['content'] = articles['content'].apply(lambda x: ' '.join(x.split()[:700]))"
      ],
      "execution_count": 6,
      "outputs": []
    },
    {
      "cell_type": "markdown",
      "metadata": {
        "id": "rKdl8-vkyfAc"
      },
      "source": [
        "## Import model and set up data"
      ]
    },
    {
      "cell_type": "code",
      "metadata": {
        "id": "mYh5-k3P-0Qc"
      },
      "source": [
        "pretrained_model_name = \"facebook/bart-large-cnn\"\n",
        "hf_arch, hf_config, hf_tokenizer, hf_model = BLURR.get_hf_objects(pretrained_model_name, \n",
        "                                                                  model_cls=BartForConditionalGeneration)"
      ],
      "execution_count": 7,
      "outputs": []
    },
    {
      "cell_type": "code",
      "metadata": {
        "id": "jq0_5615-z8B"
      },
      "source": [
        "#text_gen_kwargs = default_text_gen_kwargs(hf_config, hf_model, task='summarization');"
      ],
      "execution_count": 8,
      "outputs": []
    },
    {
      "cell_type": "code",
      "metadata": {
        "id": "HKng4TVLU3SR"
      },
      "source": [
        "hf_batch_tfm = HF_Seq2SeqBeforeBatchTransform(hf_arch, hf_config, hf_tokenizer, hf_model, task='summarization',\n",
        "text_gen_kwargs={'max_length': 248,\n",
        " 'min_length': 56,\n",
        " 'do_sample': False,\n",
        " 'early_stopping': True,\n",
        " 'num_beams': 4,\n",
        " 'temperature': 1.0,\n",
        " 'top_k': 50,\n",
        " 'top_p': 1.0,\n",
        " 'repetition_penalty': 1.0,\n",
        " 'bad_words_ids': None,\n",
        " 'bos_token_id': 0,\n",
        " 'pad_token_id': 1,\n",
        " 'eos_token_id': 2,\n",
        " 'length_penalty': 2.0,\n",
        " 'no_repeat_ngram_size': 3,\n",
        " 'encoder_no_repeat_ngram_size': 0,\n",
        " 'num_return_sequences': 1,\n",
        " 'decoder_start_token_id': 2,\n",
        " 'use_cache': True,\n",
        " 'num_beam_groups': 1,\n",
        " 'diversity_penalty': 0.0,\n",
        " 'output_attentions': False,\n",
        " 'output_hidden_states': False,\n",
        " 'output_scores': False,\n",
        " 'return_dict_in_generate': False,\n",
        " 'forced_bos_token_id': 0,\n",
        " 'forced_eos_token_id': 2,\n",
        " 'remove_invalid_values': False})\n",
        "\n",
        "blocks = (HF_Seq2SeqBlock(before_batch_tfm=hf_batch_tfm), noop)\n",
        "\n",
        "dblock = DataBlock(blocks=blocks, get_x=ColReader('content'), get_y=ColReader('title'), splitter=RandomSplitter())"
      ],
      "execution_count": 9,
      "outputs": []
    },
    {
      "cell_type": "code",
      "metadata": {
        "id": "7S_9MXrPU5Gu"
      },
      "source": [
        "dls = dblock.dataloaders(articles, bs=2)"
      ],
      "execution_count": 10,
      "outputs": []
    },
    {
      "cell_type": "markdown",
      "metadata": {
        "id": "uGXggEBiYRPt"
      },
      "source": [
        "### Training\n"
      ]
    },
    {
      "cell_type": "code",
      "metadata": {
        "id": "0w_i6qmuYUSv"
      },
      "source": [
        "seq2seq_metrics = {\n",
        "        'rouge': {\n",
        "            'compute_kwargs': { 'rouge_types': [\"rouge1\", \"rouge2\", \"rougeL\"], 'use_stemmer': True },\n",
        "            'returns': [\"rouge1\", \"rouge2\", \"rougeL\"]\n",
        "        },\n",
        "        'bertscore': {\n",
        "            'compute_kwargs': { 'lang': 'fr' },\n",
        "            'returns': [\"precision\", \"recall\", \"f1\"]\n",
        "        }\n",
        "    }"
      ],
      "execution_count": 11,
      "outputs": []
    },
    {
      "cell_type": "code",
      "metadata": {
        "id": "dXlU_OtOY5wL"
      },
      "source": [
        "model = HF_BaseModelWrapper(hf_model)\n",
        "learn_cbs = [HF_BaseModelCallback]\n",
        "fit_cbs = [HF_Seq2SeqMetricsCallback(custom_metrics=seq2seq_metrics)]\n",
        "\n",
        "learn = Learner(dls, \n",
        "                model,\n",
        "                opt_func=ranger,\n",
        "                loss_func=CrossEntropyLossFlat(),\n",
        "                cbs=learn_cbs,\n",
        "                splitter=partial(seq2seq_splitter, arch=hf_arch)).to_fp16()\n",
        "\n",
        "learn.create_opt() \n",
        "learn.freeze()"
      ],
      "execution_count": 12,
      "outputs": []
    },
    {
      "cell_type": "code",
      "metadata": {
        "id": "sYYETbl_mSE5"
      },
      "source": [
        "learn.fit_one_cycle(3, lr_max=3e-5, cbs=fit_cbs)"
      ],
      "execution_count": null,
      "outputs": []
    },
    {
      "cell_type": "markdown",
      "metadata": {
        "id": "Y-1hGsoLVukV"
      },
      "source": [
        "### Generate predictions"
      ]
    },
    {
      "cell_type": "code",
      "metadata": {
        "id": "lVneesmxWgy3"
      },
      "source": [
        "df['content'][0]"
      ],
      "execution_count": null,
      "outputs": []
    },
    {
      "cell_type": "code",
      "metadata": {
        "id": "3Mh9WlNGWKXs"
      },
      "source": [
        "outputs = learn.blurr_generate(df['content'][0], early_stopping=False, num_return_sequences=1)\n",
        "\n",
        "for idx, o in enumerate(outputs):\n",
        "    print(f'=== Prediction {idx+1} ===\\n{o}\\n')"
      ],
      "execution_count": null,
      "outputs": []
    }
  ]
}